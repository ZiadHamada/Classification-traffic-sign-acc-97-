{
 "cells": [
  {
   "cell_type": "code",
   "execution_count": 1,
   "id": "cb89b8c0",
   "metadata": {
    "_cell_guid": "b1076dfc-b9ad-4769-8c92-a6c4dae69d19",
    "_uuid": "8f2839f25d086af736a60e9eeb907d3b93b6e0e5",
    "execution": {
     "iopub.execute_input": "2023-03-25T16:09:47.903853Z",
     "iopub.status.busy": "2023-03-25T16:09:47.902756Z",
     "iopub.status.idle": "2023-03-25T16:09:56.536938Z",
     "shell.execute_reply": "2023-03-25T16:09:56.535753Z"
    },
    "papermill": {
     "duration": 8.643702,
     "end_time": "2023-03-25T16:09:56.539722",
     "exception": false,
     "start_time": "2023-03-25T16:09:47.896020",
     "status": "completed"
    },
    "tags": []
   },
   "outputs": [],
   "source": [
    "import numpy as np \n",
    "import pandas as pd \n",
    "import matplotlib.pyplot as plt\n",
    "import cv2\n",
    "import tensorflow as tf\n",
    "from PIL import Image\n",
    "import os\n",
    "from sklearn.model_selection import train_test_split\n",
    "from keras.utils import to_categorical\n",
    "from keras.models import Sequential, load_model\n",
    "from keras.layers import Conv2D, MaxPool2D, Dense, Flatten, Dropout\n",
    "from sklearn.metrics import accuracy_score"
   ]
  },
  {
   "cell_type": "code",
   "execution_count": 2,
   "id": "df963eb4",
   "metadata": {
    "execution": {
     "iopub.execute_input": "2023-03-25T16:09:56.549825Z",
     "iopub.status.busy": "2023-03-25T16:09:56.549178Z",
     "iopub.status.idle": "2023-03-25T16:09:56.554389Z",
     "shell.execute_reply": "2023-03-25T16:09:56.553283Z"
    },
    "papermill": {
     "duration": 0.012467,
     "end_time": "2023-03-25T16:09:56.556516",
     "exception": false,
     "start_time": "2023-03-25T16:09:56.544049",
     "status": "completed"
    },
    "tags": []
   },
   "outputs": [],
   "source": [
    "train_path = '/kaggle/input/gtsrb-german-traffic-sign/Train/'"
   ]
  },
  {
   "cell_type": "code",
   "execution_count": 3,
   "id": "9a585ffa",
   "metadata": {
    "execution": {
     "iopub.execute_input": "2023-03-25T16:09:56.565823Z",
     "iopub.status.busy": "2023-03-25T16:09:56.565536Z",
     "iopub.status.idle": "2023-03-25T16:12:26.450087Z",
     "shell.execute_reply": "2023-03-25T16:12:26.448914Z"
    },
    "papermill": {
     "duration": 149.892399,
     "end_time": "2023-03-25T16:12:26.452988",
     "exception": false,
     "start_time": "2023-03-25T16:09:56.560589",
     "status": "completed"
    },
    "tags": []
   },
   "outputs": [],
   "source": [
    "X_Images = []\n",
    "y_Labels = []\n",
    "\n",
    "#Retrieving the images and their labels \n",
    "for i in range(43):\n",
    "    path = os.path.join(train_path,str(i))\n",
    "    images = os.listdir(path)\n",
    "    for a in images:\n",
    "        try:\n",
    "            image = Image.open(path + '/'+ a)\n",
    "            image = image.resize((30,30))\n",
    "            image = np.array(image)\n",
    "            #sim = Image.fromarray(image)\n",
    "            X_Images.append(image)\n",
    "            y_Labels.append(i)\n",
    "        except:\n",
    "            print(\"Error loading image\")"
   ]
  },
  {
   "cell_type": "code",
   "execution_count": 4,
   "id": "556aada8",
   "metadata": {
    "execution": {
     "iopub.execute_input": "2023-03-25T16:12:26.463414Z",
     "iopub.status.busy": "2023-03-25T16:12:26.462458Z",
     "iopub.status.idle": "2023-03-25T16:12:26.470524Z",
     "shell.execute_reply": "2023-03-25T16:12:26.469529Z"
    },
    "papermill": {
     "duration": 0.015511,
     "end_time": "2023-03-25T16:12:26.472785",
     "exception": false,
     "start_time": "2023-03-25T16:12:26.457274",
     "status": "completed"
    },
    "tags": []
   },
   "outputs": [
    {
     "data": {
      "text/plain": [
       "43"
      ]
     },
     "execution_count": 4,
     "metadata": {},
     "output_type": "execute_result"
    }
   ],
   "source": [
    "classes = len(set(y_Labels))\n",
    "classes"
   ]
  },
  {
   "cell_type": "code",
   "execution_count": 5,
   "id": "a2b11812",
   "metadata": {
    "execution": {
     "iopub.execute_input": "2023-03-25T16:12:26.482579Z",
     "iopub.status.busy": "2023-03-25T16:12:26.481711Z",
     "iopub.status.idle": "2023-03-25T16:12:26.557037Z",
     "shell.execute_reply": "2023-03-25T16:12:26.555248Z"
    },
    "papermill": {
     "duration": 0.082505,
     "end_time": "2023-03-25T16:12:26.559311",
     "exception": false,
     "start_time": "2023-03-25T16:12:26.476806",
     "status": "completed"
    },
    "tags": []
   },
   "outputs": [
    {
     "name": "stdout",
     "output_type": "stream",
     "text": [
      "(39209, 30, 30, 3) (39209,)\n"
     ]
    }
   ],
   "source": [
    "X_Images = np.array(X_Images)\n",
    "y_Labels = np.array(y_Labels)\n",
    "\n",
    "print(X_Images.shape, y_Labels.shape)"
   ]
  },
  {
   "cell_type": "code",
   "execution_count": 6,
   "id": "308c72f2",
   "metadata": {
    "execution": {
     "iopub.execute_input": "2023-03-25T16:12:26.570331Z",
     "iopub.status.busy": "2023-03-25T16:12:26.568640Z",
     "iopub.status.idle": "2023-03-25T16:12:26.620804Z",
     "shell.execute_reply": "2023-03-25T16:12:26.619214Z"
    },
    "papermill": {
     "duration": 0.059541,
     "end_time": "2023-03-25T16:12:26.623087",
     "exception": false,
     "start_time": "2023-03-25T16:12:26.563546",
     "status": "completed"
    },
    "tags": []
   },
   "outputs": [
    {
     "name": "stdout",
     "output_type": "stream",
     "text": [
      "(29406, 30, 30, 3) (4901, 30, 30, 3) (4902, 30, 30, 3) (29406,) (4901,) (4902,)\n"
     ]
    }
   ],
   "source": [
    "#Splitting training and testing dataset\n",
    "X_train, X_val_test, y_train, y_val_test = train_test_split(X_Images, y_Labels, test_size=0.25\n",
    "                                                            , shuffle=True, random_state=0)\n",
    "X_val, X_test, y_val, y_test = train_test_split(X_val_test, y_val_test, test_size=0.5, shuffle=True\n",
    "                                                  , random_state=0)\n",
    "\n",
    "print(X_train.shape, X_val.shape, X_test.shape, y_train.shape, y_val.shape, y_test.shape)"
   ]
  },
  {
   "cell_type": "code",
   "execution_count": 7,
   "id": "7ee1c8bd",
   "metadata": {
    "execution": {
     "iopub.execute_input": "2023-03-25T16:12:26.634499Z",
     "iopub.status.busy": "2023-03-25T16:12:26.632932Z",
     "iopub.status.idle": "2023-03-25T16:12:26.640960Z",
     "shell.execute_reply": "2023-03-25T16:12:26.639987Z"
    },
    "papermill": {
     "duration": 0.01563,
     "end_time": "2023-03-25T16:12:26.643102",
     "exception": false,
     "start_time": "2023-03-25T16:12:26.627472",
     "status": "completed"
    },
    "tags": []
   },
   "outputs": [],
   "source": [
    "#Converting the labels into one hot encoding\n",
    "y_train = to_categorical(y_train, classes)\n",
    "y_val = to_categorical(y_val, classes)\n",
    "y_test = to_categorical(y_test, classes)"
   ]
  },
  {
   "cell_type": "code",
   "execution_count": 8,
   "id": "16f9b4d7",
   "metadata": {
    "execution": {
     "iopub.execute_input": "2023-03-25T16:12:26.653579Z",
     "iopub.status.busy": "2023-03-25T16:12:26.652682Z",
     "iopub.status.idle": "2023-03-25T16:12:30.526432Z",
     "shell.execute_reply": "2023-03-25T16:12:30.525420Z"
    },
    "papermill": {
     "duration": 3.881792,
     "end_time": "2023-03-25T16:12:30.529295",
     "exception": false,
     "start_time": "2023-03-25T16:12:26.647503",
     "status": "completed"
    },
    "tags": []
   },
   "outputs": [],
   "source": [
    "#Building the model\n",
    "model = Sequential()\n",
    "model.add(Conv2D(filters=32, kernel_size=(5,5), activation='relu', padding='same',input_shape=X_train.shape[1:]))\n",
    "model.add(Conv2D(filters=32, kernel_size=(5,5), activation='relu'))\n",
    "model.add(MaxPool2D(pool_size=(2, 2)))\n",
    "model.add(Dropout(rate=0.1))\n",
    "model.add(Conv2D(filters=64, kernel_size=(3, 3), activation='relu'))\n",
    "model.add(Conv2D(filters=64, kernel_size=(3, 3), activation='relu'))\n",
    "model.add(MaxPool2D(pool_size=(2, 2)))\n",
    "model.add(Dropout(rate=0.1))\n",
    "model.add(Flatten())\n",
    "model.add(Dense(256, activation='relu'))\n",
    "model.add(Dropout(rate=0.2))\n",
    "model.add(Dense(128, activation='relu'))\n",
    "model.add(Dropout(rate=0.2))\n",
    "model.add(Dense(64, activation='relu'))\n",
    "model.add(Dropout(rate=0.2))\n",
    "model.add(Dense(32, activation='relu'))\n",
    "model.add(Dropout(rate=0.2))\n",
    "model.add(Dense(classes, activation='softmax'))"
   ]
  },
  {
   "cell_type": "code",
   "execution_count": 9,
   "id": "48804160",
   "metadata": {
    "execution": {
     "iopub.execute_input": "2023-03-25T16:12:30.540563Z",
     "iopub.status.busy": "2023-03-25T16:12:30.538853Z",
     "iopub.status.idle": "2023-03-25T16:12:30.555641Z",
     "shell.execute_reply": "2023-03-25T16:12:30.554516Z"
    },
    "papermill": {
     "duration": 0.024435,
     "end_time": "2023-03-25T16:12:30.558088",
     "exception": false,
     "start_time": "2023-03-25T16:12:30.533653",
     "status": "completed"
    },
    "tags": []
   },
   "outputs": [],
   "source": [
    "#Compilation of the model\n",
    "opt = tf.keras.optimizers.Adam(learning_rate=0.0001)\n",
    "model.compile(loss='categorical_crossentropy', optimizer=opt, metrics=['accuracy'])"
   ]
  },
  {
   "cell_type": "code",
   "execution_count": 10,
   "id": "5d0312cc",
   "metadata": {
    "execution": {
     "iopub.execute_input": "2023-03-25T16:12:30.567687Z",
     "iopub.status.busy": "2023-03-25T16:12:30.567393Z",
     "iopub.status.idle": "2023-03-25T16:12:30.616486Z",
     "shell.execute_reply": "2023-03-25T16:12:30.615598Z"
    },
    "papermill": {
     "duration": 0.089349,
     "end_time": "2023-03-25T16:12:30.651534",
     "exception": false,
     "start_time": "2023-03-25T16:12:30.562185",
     "status": "completed"
    },
    "tags": []
   },
   "outputs": [
    {
     "name": "stdout",
     "output_type": "stream",
     "text": [
      "Model: \"sequential\"\n",
      "_________________________________________________________________\n",
      " Layer (type)                Output Shape              Param #   \n",
      "=================================================================\n",
      " conv2d (Conv2D)             (None, 30, 30, 32)        2432      \n",
      "                                                                 \n",
      " conv2d_1 (Conv2D)           (None, 26, 26, 32)        25632     \n",
      "                                                                 \n",
      " max_pooling2d (MaxPooling2D  (None, 13, 13, 32)       0         \n",
      " )                                                               \n",
      "                                                                 \n",
      " dropout (Dropout)           (None, 13, 13, 32)        0         \n",
      "                                                                 \n",
      " conv2d_2 (Conv2D)           (None, 11, 11, 64)        18496     \n",
      "                                                                 \n",
      " conv2d_3 (Conv2D)           (None, 9, 9, 64)          36928     \n",
      "                                                                 \n",
      " max_pooling2d_1 (MaxPooling  (None, 4, 4, 64)         0         \n",
      " 2D)                                                             \n",
      "                                                                 \n",
      " dropout_1 (Dropout)         (None, 4, 4, 64)          0         \n",
      "                                                                 \n",
      " flatten (Flatten)           (None, 1024)              0         \n",
      "                                                                 \n",
      " dense (Dense)               (None, 256)               262400    \n",
      "                                                                 \n",
      " dropout_2 (Dropout)         (None, 256)               0         \n",
      "                                                                 \n",
      " dense_1 (Dense)             (None, 128)               32896     \n",
      "                                                                 \n",
      " dropout_3 (Dropout)         (None, 128)               0         \n",
      "                                                                 \n",
      " dense_2 (Dense)             (None, 64)                8256      \n",
      "                                                                 \n",
      " dropout_4 (Dropout)         (None, 64)                0         \n",
      "                                                                 \n",
      " dense_3 (Dense)             (None, 32)                2080      \n",
      "                                                                 \n",
      " dropout_5 (Dropout)         (None, 32)                0         \n",
      "                                                                 \n",
      " dense_4 (Dense)             (None, 43)                1419      \n",
      "                                                                 \n",
      "=================================================================\n",
      "Total params: 390,539\n",
      "Trainable params: 390,539\n",
      "Non-trainable params: 0\n",
      "_________________________________________________________________\n"
     ]
    }
   ],
   "source": [
    "model.summary()"
   ]
  },
  {
   "cell_type": "code",
   "execution_count": 11,
   "id": "73fe25fc",
   "metadata": {
    "execution": {
     "iopub.execute_input": "2023-03-25T16:12:30.666295Z",
     "iopub.status.busy": "2023-03-25T16:12:30.665979Z",
     "iopub.status.idle": "2023-03-25T16:16:54.720132Z",
     "shell.execute_reply": "2023-03-25T16:16:54.719025Z"
    },
    "papermill": {
     "duration": 264.064705,
     "end_time": "2023-03-25T16:16:54.722922",
     "exception": false,
     "start_time": "2023-03-25T16:12:30.658217",
     "status": "completed"
    },
    "tags": []
   },
   "outputs": [
    {
     "name": "stdout",
     "output_type": "stream",
     "text": [
      "Epoch 1/30\n"
     ]
    },
    {
     "name": "stderr",
     "output_type": "stream",
     "text": [
      "2023-03-25 16:12:32.640143: E tensorflow/core/grappler/optimizers/meta_optimizer.cc:954] layout failed: INVALID_ARGUMENT: Size of values 0 does not match size of permutation 4 @ fanin shape insequential/dropout/dropout/SelectV2-2-TransposeNHWCToNCHW-LayoutOptimizer\n"
     ]
    },
    {
     "name": "stdout",
     "output_type": "stream",
     "text": [
      "919/919 [==============================] - 18s 7ms/step - loss: 3.5414 - accuracy: 0.1175 - val_loss: 2.6214 - val_accuracy: 0.3997\n",
      "Epoch 2/30\n",
      "919/919 [==============================] - 7s 7ms/step - loss: 2.4264 - accuracy: 0.3733 - val_loss: 1.5316 - val_accuracy: 0.6095\n",
      "Epoch 3/30\n",
      "919/919 [==============================] - 7s 7ms/step - loss: 1.7258 - accuracy: 0.5258 - val_loss: 0.9304 - val_accuracy: 0.7621\n",
      "Epoch 4/30\n",
      "919/919 [==============================] - 7s 8ms/step - loss: 1.2383 - accuracy: 0.6529 - val_loss: 0.6085 - val_accuracy: 0.8792\n",
      "Epoch 5/30\n",
      "919/919 [==============================] - 7s 7ms/step - loss: 0.8958 - accuracy: 0.7477 - val_loss: 0.3248 - val_accuracy: 0.9323\n",
      "Epoch 6/30\n",
      "919/919 [==============================] - 7s 7ms/step - loss: 0.6655 - accuracy: 0.8105 - val_loss: 0.2240 - val_accuracy: 0.9543\n",
      "Epoch 7/30\n",
      "919/919 [==============================] - 7s 7ms/step - loss: 0.5286 - accuracy: 0.8474 - val_loss: 0.1398 - val_accuracy: 0.9725\n",
      "Epoch 8/30\n",
      "919/919 [==============================] - 7s 8ms/step - loss: 0.4365 - accuracy: 0.8734 - val_loss: 0.1172 - val_accuracy: 0.9761\n",
      "Epoch 9/30\n",
      "919/919 [==============================] - 7s 7ms/step - loss: 0.3563 - accuracy: 0.8981 - val_loss: 0.1089 - val_accuracy: 0.9786\n",
      "Epoch 10/30\n",
      "919/919 [==============================] - 7s 7ms/step - loss: 0.3008 - accuracy: 0.9146 - val_loss: 0.0745 - val_accuracy: 0.9867\n",
      "Epoch 11/30\n",
      "919/919 [==============================] - 7s 7ms/step - loss: 0.2551 - accuracy: 0.9277 - val_loss: 0.0616 - val_accuracy: 0.9873\n",
      "Epoch 12/30\n",
      "919/919 [==============================] - 7s 7ms/step - loss: 0.2275 - accuracy: 0.9367 - val_loss: 0.0506 - val_accuracy: 0.9892\n",
      "Epoch 13/30\n",
      "919/919 [==============================] - 7s 8ms/step - loss: 0.1905 - accuracy: 0.9489 - val_loss: 0.0465 - val_accuracy: 0.9894\n",
      "Epoch 14/30\n",
      "919/919 [==============================] - 7s 7ms/step - loss: 0.1749 - accuracy: 0.9520 - val_loss: 0.0456 - val_accuracy: 0.9914\n",
      "Epoch 15/30\n",
      "919/919 [==============================] - 7s 7ms/step - loss: 0.1586 - accuracy: 0.9569 - val_loss: 0.0395 - val_accuracy: 0.9900\n",
      "Epoch 16/30\n",
      "919/919 [==============================] - 7s 7ms/step - loss: 0.1338 - accuracy: 0.9636 - val_loss: 0.0382 - val_accuracy: 0.9925\n",
      "Epoch 17/30\n",
      "919/919 [==============================] - 7s 7ms/step - loss: 0.1274 - accuracy: 0.9647 - val_loss: 0.0300 - val_accuracy: 0.9941\n",
      "Epoch 18/30\n",
      "919/919 [==============================] - 7s 8ms/step - loss: 0.1136 - accuracy: 0.9691 - val_loss: 0.0344 - val_accuracy: 0.9929\n",
      "Epoch 19/30\n",
      "919/919 [==============================] - 7s 7ms/step - loss: 0.1065 - accuracy: 0.9713 - val_loss: 0.0317 - val_accuracy: 0.9943\n",
      "Epoch 20/30\n",
      "919/919 [==============================] - 7s 8ms/step - loss: 0.1032 - accuracy: 0.9724 - val_loss: 0.0268 - val_accuracy: 0.9955\n",
      "Epoch 21/30\n",
      "919/919 [==============================] - 7s 7ms/step - loss: 0.0951 - accuracy: 0.9746 - val_loss: 0.0223 - val_accuracy: 0.9951\n",
      "Epoch 22/30\n",
      "919/919 [==============================] - 7s 8ms/step - loss: 0.0845 - accuracy: 0.9773 - val_loss: 0.0338 - val_accuracy: 0.9945\n",
      "Epoch 23/30\n",
      "919/919 [==============================] - 7s 7ms/step - loss: 0.0735 - accuracy: 0.9800 - val_loss: 0.0246 - val_accuracy: 0.9949\n",
      "Epoch 24/30\n",
      "919/919 [==============================] - 7s 7ms/step - loss: 0.0777 - accuracy: 0.9795 - val_loss: 0.0185 - val_accuracy: 0.9957\n",
      "Epoch 25/30\n",
      "919/919 [==============================] - 7s 7ms/step - loss: 0.0668 - accuracy: 0.9831 - val_loss: 0.0171 - val_accuracy: 0.9973\n",
      "Epoch 26/30\n",
      "919/919 [==============================] - 7s 7ms/step - loss: 0.0627 - accuracy: 0.9832 - val_loss: 0.0169 - val_accuracy: 0.9971\n",
      "Epoch 27/30\n",
      "919/919 [==============================] - 7s 7ms/step - loss: 0.0620 - accuracy: 0.9841 - val_loss: 0.0204 - val_accuracy: 0.9965\n",
      "Epoch 28/30\n",
      "919/919 [==============================] - 7s 8ms/step - loss: 0.0570 - accuracy: 0.9849 - val_loss: 0.0194 - val_accuracy: 0.9961\n",
      "Epoch 29/30\n",
      "919/919 [==============================] - 7s 7ms/step - loss: 0.0577 - accuracy: 0.9854 - val_loss: 0.0175 - val_accuracy: 0.9965\n",
      "Epoch 30/30\n",
      "919/919 [==============================] - 7s 7ms/step - loss: 0.0585 - accuracy: 0.9849 - val_loss: 0.0219 - val_accuracy: 0.9949\n"
     ]
    }
   ],
   "source": [
    "epochs = 30\n",
    "history = model.fit(X_train, y_train, batch_size=32, epochs=epochs, validation_data=(X_val, y_val))"
   ]
  },
  {
   "cell_type": "code",
   "execution_count": 12,
   "id": "2413e6d7",
   "metadata": {
    "execution": {
     "iopub.execute_input": "2023-03-25T16:16:55.395822Z",
     "iopub.status.busy": "2023-03-25T16:16:55.395437Z",
     "iopub.status.idle": "2023-03-25T16:16:56.757217Z",
     "shell.execute_reply": "2023-03-25T16:16:56.755954Z"
    },
    "papermill": {
     "duration": 1.64248,
     "end_time": "2023-03-25T16:16:56.760228",
     "exception": false,
     "start_time": "2023-03-25T16:16:55.117748",
     "status": "completed"
    },
    "tags": []
   },
   "outputs": [
    {
     "name": "stdout",
     "output_type": "stream",
     "text": [
      "154/154 [==============================] - 1s 4ms/step - loss: 0.0374 - accuracy: 0.9935\n",
      "Test Loss is 0.03744031861424446\n",
      "Test Accuracy is 0.9934720396995544\n"
     ]
    }
   ],
   "source": [
    "ModelLoss, ModelAccuracy = model.evaluate(X_test, y_test,batch_size=32)\n",
    "\n",
    "print('Test Loss is {}'.format(ModelLoss))\n",
    "print('Test Accuracy is {}'.format(ModelAccuracy ))"
   ]
  },
  {
   "cell_type": "code",
   "execution_count": 13,
   "id": "aeb392ef",
   "metadata": {
    "execution": {
     "iopub.execute_input": "2023-03-25T16:16:57.162607Z",
     "iopub.status.busy": "2023-03-25T16:16:57.161542Z",
     "iopub.status.idle": "2023-03-25T16:16:57.652426Z",
     "shell.execute_reply": "2023-03-25T16:16:57.651320Z"
    },
    "papermill": {
     "duration": 0.69234,
     "end_time": "2023-03-25T16:16:57.654859",
     "exception": false,
     "start_time": "2023-03-25T16:16:56.962519",
     "status": "completed"
    },
    "tags": []
   },
   "outputs": [
    {
     "data": {
      "image/png": "[encoded data removed]",
      "text/plain": [
       "<Figure size 640x480 with 1 Axes>"
      ]
     },
     "metadata": {},
     "output_type": "display_data"
    },
    {
     "data": {
      "image/png": "[encoded data removed]",
      "text/plain": [
       "<Figure size 640x480 with 1 Axes>"
      ]
     },
     "metadata": {},
     "output_type": "display_data"
    }
   ],
   "source": [
    "#plotting graphs for accuracy \n",
    "plt.figure(0)\n",
    "plt.plot(history.history['accuracy'], label='training accuracy')\n",
    "plt.plot(history.history['val_accuracy'], label='val accuracy')\n",
    "plt.title('Accuracy')\n",
    "plt.xlabel('epochs')\n",
    "plt.ylabel('accuracy')\n",
    "plt.legend()\n",
    "plt.show()\n",
    "\n",
    "plt.figure(1)\n",
    "plt.plot(history.history['loss'], label='training loss')\n",
    "plt.plot(history.history['val_loss'], label='val loss')\n",
    "plt.title('Loss')\n",
    "plt.xlabel('epochs')\n",
    "plt.ylabel('loss')\n",
    "plt.legend()\n",
    "plt.show()"
   ]
  },
  {
   "cell_type": "code",
   "execution_count": 14,
   "id": "3cc2d2c3",
   "metadata": {
    "execution": {
     "iopub.execute_input": "2023-03-25T16:16:58.056025Z",
     "iopub.status.busy": "2023-03-25T16:16:58.055644Z",
     "iopub.status.idle": "2023-03-25T16:18:02.797544Z",
     "shell.execute_reply": "2023-03-25T16:18:02.796430Z"
    },
    "papermill": {
     "duration": 64.945984,
     "end_time": "2023-03-25T16:18:02.800542",
     "exception": false,
     "start_time": "2023-03-25T16:16:57.854558",
     "status": "completed"
    },
    "tags": []
   },
   "outputs": [],
   "source": [
    "test = pd.read_csv('/kaggle/input/gtsrb-german-traffic-sign/Test.csv')\n",
    "\n",
    "labels = test[\"ClassId\"].values\n",
    "imgs = test[\"Path\"].values\n",
    "data=[]\n",
    "\n",
    "for img in imgs:\n",
    "    image = Image.open('/kaggle/input/gtsrb-german-traffic-sign/'+img)\n",
    "    image = image.resize((30,30))\n",
    "    data.append(np.array(image))\n",
    "    \n",
    "Test=np.array(data)"
   ]
  },
  {
   "cell_type": "code",
   "execution_count": 15,
   "id": "2576ed4f",
   "metadata": {
    "execution": {
     "iopub.execute_input": "2023-03-25T16:18:03.201234Z",
     "iopub.status.busy": "2023-03-25T16:18:03.200865Z",
     "iopub.status.idle": "2023-03-25T16:18:04.747465Z",
     "shell.execute_reply": "2023-03-25T16:18:04.746424Z"
    },
    "papermill": {
     "duration": 1.748348,
     "end_time": "2023-03-25T16:18:04.750059",
     "exception": false,
     "start_time": "2023-03-25T16:18:03.001711",
     "status": "completed"
    },
    "tags": []
   },
   "outputs": [
    {
     "name": "stdout",
     "output_type": "stream",
     "text": [
      "395/395 [==============================] - 1s 3ms/step\n"
     ]
    }
   ],
   "source": [
    "pred = np.argmax(model.predict(Test),axis=1)"
   ]
  },
  {
   "cell_type": "code",
   "execution_count": 16,
   "id": "3800f5c6",
   "metadata": {
    "execution": {
     "iopub.execute_input": "2023-03-25T16:18:05.196897Z",
     "iopub.status.busy": "2023-03-25T16:18:05.195762Z",
     "iopub.status.idle": "2023-03-25T16:18:05.203695Z",
     "shell.execute_reply": "2023-03-25T16:18:05.202093Z"
    },
    "papermill": {
     "duration": 0.212206,
     "end_time": "2023-03-25T16:18:05.206633",
     "exception": false,
     "start_time": "2023-03-25T16:18:04.994427",
     "status": "completed"
    },
    "tags": []
   },
   "outputs": [
    {
     "name": "stdout",
     "output_type": "stream",
     "text": [
      "0.966270783847981\n"
     ]
    }
   ],
   "source": [
    "#Accuracy with the test data\n",
    "print(accuracy_score(labels, pred))"
   ]
  },
  {
   "cell_type": "code",
   "execution_count": 17,
   "id": "089cf2c7",
   "metadata": {
    "execution": {
     "iopub.execute_input": "2023-03-25T16:18:05.607433Z",
     "iopub.status.busy": "2023-03-25T16:18:05.607038Z",
     "iopub.status.idle": "2023-03-25T16:18:05.685446Z",
     "shell.execute_reply": "2023-03-25T16:18:05.684287Z"
    },
    "papermill": {
     "duration": 0.281605,
     "end_time": "2023-03-25T16:18:05.688462",
     "exception": false,
     "start_time": "2023-03-25T16:18:05.406857",
     "status": "completed"
    },
    "tags": []
   },
   "outputs": [],
   "source": [
    "model.save('/kaggle/Output/traffic_classifier.h5')"
   ]
  }
 ],
 "metadata": {
  "kernelspec": {
   "display_name": "Python 3",
   "language": "python",
   "name": "python3"
  },
  "language_info": {
   "codemirror_mode": {
    "name": "ipython",
    "version": 3
   },
   "file_extension": ".py",
   "mimetype": "text/x-python",
   "name": "python",
   "nbconvert_exporter": "python",
   "pygments_lexer": "ipython3",
   "version": "3.7.12"
  },
  "papermill": {
   "default_parameters": {},
   "duration": 511.194667,
   "end_time": "2023-03-25T16:18:09.335538",
   "environment_variables": {},
   "exception": null,
   "input_path": "__notebook__.ipynb",
   "output_path": "__notebook__.ipynb",
   "parameters": {},
   "start_time": "2023-03-25T16:09:38.140871",
   "version": "2.4.0"
  }
 },
 "nbformat": 4,
 "nbformat_minor": 5
}
